{
 "cells": [
  {
   "cell_type": "code",
   "execution_count": null,
   "id": "34467086",
   "metadata": {},
   "outputs": [],
   "source": [
    "import joblib\n",
    "import pandas as pd\n",
    "import matplotlib.pyplot as plt\n",
    "from sklearn.inspection import permutation_importance\n",
    "from imblearn.over_sampling import SMOTE\n",
    "from imblearn.under_sampling import RandomUnderSampler\n",
    "from sklearn.model_selection import train_test_split, cross_val_score, RepeatedStratifiedKFold\n",
    "from sklearn.ensemble import HistGradientBoostingClassifier\n",
    "\n",
    "final_dta = pd.read_csv(\"data_preprocessed.csv\")\n",
    "\n",
    "X = final_dta.drop(columns=\"target\")\n",
    "y = final_dta[\"target\"]\n",
    "\n",
    "X_train, X_test, y_train, y_test = train_test_split(X, y, test_size=0.2, stratify=y, random_state=42)\n",
    "\n",
    "best_model = joblib.load(\"best_model.pkl\")\n",
    "preprocessor = best_model.named_steps[\"preprocessor\"]\n",
    "\n",
    "X_train_pre = preprocessor.fit_transform(X_train)\n",
    "X_test_pre = preprocessor.transform(X_test)\n",
    "\n",
    "# Resample training data again (similar to the best model from ML_model.py)\n",
    "smote = SMOTE(sampling_strategy=0.1, k_neighbors=5, random_state=42)\n",
    "rus = RandomUnderSampler(sampling_strategy=0.5, random_state=42)\n",
    "\n",
    "X_resampled, y_resampled = smote.fit_resample(X_train_pre, y_train)\n",
    "X_resampled, y_resampled = rus.fit_resample(X_resampled, y_resampled)\n",
    "\n",
    "model = HistGradientBoostingClassifier(random_state=42)\n",
    "model.fit(X_resampled, y_resampled)\n",
    "\n",
    "num_features = X.select_dtypes(include=[\"int64\", \"float64\"]).columns.tolist()\n",
    "cat_cols = [col for col in X.columns if col not in num_features]\n",
    "cat_features = preprocessor.named_transformers_[\"cat\"].named_steps[\"encoder\"].get_feature_names_out(cat_cols)\n",
    "\n",
    "feature_names = num_features + list(cat_features)\n",
    "\n",
    "result = permutation_importance(model, X_test_pre, y_test, n_repeats=10, random_state=42, n_jobs=-1)\n",
    "\n",
    "feat_imp = pd.DataFrame({\n",
    "    \"feature\": feature_names,\n",
    "    \"importance\": result.importances_mean\n",
    "}).sort_values(by=\"importance\", ascending=False)\n",
    "\n",
    "print(feat_imp.head(10))\n",
    "\n",
    "#plot\n",
    "plt.figure(figsize=(10, 6))\n",
    "plt.barh(feat_imp[\"feature\"][:10][::-1], feat_imp[\"importance\"][:10][::-1])\n",
    "plt.title(\"Top 10 feature relevance\")\n",
    "plt.xlabel(\"Mean Importance\")\n",
    "plt.tight_layout()\n",
    "plt.show()\n"
   ]
  }
 ],
 "metadata": {
  "kernelspec": {
   "display_name": "venv",
   "language": "python",
   "name": "python3"
  },
  "language_info": {
   "codemirror_mode": {
    "name": "ipython",
    "version": 3
   },
   "file_extension": ".py",
   "mimetype": "text/x-python",
   "name": "python",
   "nbconvert_exporter": "python",
   "pygments_lexer": "ipython3",
   "version": "3.12.1"
  }
 },
 "nbformat": 4,
 "nbformat_minor": 5
}
